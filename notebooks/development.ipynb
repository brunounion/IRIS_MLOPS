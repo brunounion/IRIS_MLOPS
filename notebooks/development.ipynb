{
 "metadata": {
  "orig_nbformat": 2,
  "kernelspec": {
   "name": "python3",
   "display_name": "Python 3",
   "language": "python"
  }
 },
 "nbformat": 4,
 "nbformat_minor": 2,
 "cells": [
  {
   "source": [
    "# IMPORT LIBRARIES"
   ],
   "cell_type": "markdown",
   "metadata": {}
  },
  {
   "cell_type": "code",
   "execution_count": null,
   "metadata": {},
   "outputs": [],
   "source": [
    "import sklearn.datasets\n",
    "import pandas as pd\n",
    "import numpy as np\n",
    "\n",
    "import os\n",
    "\n",
    "from sklearn import model_selection\n",
    "from sklearn.linear_model import LogisticRegression\n",
    "from sklearn.linear_model import RidgeClassifier\n",
    "from sklearn.svm import SVC\n",
    "from sklearn.tree  import DecisionTreeClassifier\n",
    "from sklearn.naive_bayes import GaussianNB\n",
    "\n",
    "\n",
    "import pickle "
   ]
  },
  {
   "source": [
    "# IMPORT DATA"
   ],
   "cell_type": "markdown",
   "metadata": {}
  },
  {
   "source": [
    "def data_connection():\n",
    "    # data_connection.py\n",
    "    # import sklearn.datasets\n",
    "    # import pandas as pd\n",
    "\n",
    "    # importing data from sklearn library\n",
    "    data_dict = sklearn.datasets.load_iris()\n",
    "\n",
    "    # Creating data frame with X values and with his features names\n",
    "    df_data_raw = pd.DataFrame(data_dict.data, columns = data_dict.feature_names)\n",
    "\n",
    "    # Creating the Y column\n",
    "    df_data_raw['target'] = data_dict.target\n",
    "\n",
    "    # Creating a dictionary with the Y value and his class\n",
    "    dict_target_names = dict(zip(df_data_raw['target'].unique(), data_dict.target_names))\n",
    "    \n",
    "    # Creating a columns in the dataframe with the target classes names\n",
    "    df_data_raw['class'] = df_data_raw['target'].map(dict_target_names)\n",
    "\n",
    "    # Exporting the raw data dataframe to posterior use\n",
    "    df_data_raw.to_csv(r'input/raw_data.csv', index=False)\n",
    "\n",
    "data_connection()"
   ],
   "cell_type": "code",
   "metadata": {},
   "execution_count": 140,
   "outputs": []
  },
  {
   "source": [
    "# CREATING FOLDS"
   ],
   "cell_type": "markdown",
   "metadata": {}
  },
  {
   "cell_type": "code",
   "execution_count": 163,
   "metadata": {},
   "outputs": [
    {
     "output_type": "stream",
     "name": "stdout",
     "text": [
      "class  setosa  versicolor  virginica\n0           8          10         12\n1           7          13         10\n2           9          10         11\n3          10          11          9\n4          16           6          8\n"
     ]
    }
   ],
   "source": [
    "# data_splitter.py\n",
    "\n",
    "    # import os\n",
    "\n",
    "    # import pandas as pd\n",
    "    # from sklearn import model_selection\n",
    "\n",
    "CSV_NAME = 'raw_data.csv'\n",
    "CSV_DIR = 'input'\n",
    "\n",
    "# Reads raw data csv from the input folder\n",
    "df = pd.read_csv(os.path.join(CSV_DIR,CSV_NAME))\n",
    "\n",
    "# Shuffle\n",
    "df = df.sample(frac=1, replace = False).reset_index(drop=True)\n",
    "\n",
    "# Initialize the fold class\n",
    "kf = model_selection.KFold(n_splits = 5)\n",
    "\n",
    "# Create  kfold column\n",
    "df['kfold'] = 0\n",
    "\n",
    "# Fill the kfold column\n",
    "for fold, (trn_, val_) in enumerate(kf.split(X=df)):\n",
    "    df.loc[val_, 'kfold'] = fold\n",
    "\n",
    "# Print distribution of classes in each fold\n",
    "print(pd.pivot_table(df, index='kfold', columns='class', aggfunc='size').reset_index(drop=True))\n",
    "\n",
    "# Export to input folder the train data splitted in N folds\n",
    "df.to_csv('input/raw_data_splitted.csv', index = False)"
   ]
  },
  {
   "source": [
    "# FINDING BEST MODELS CANDIDATES"
   ],
   "cell_type": "markdown",
   "metadata": {}
  },
  {
   "cell_type": "code",
   "execution_count": 5,
   "metadata": {},
   "outputs": [
    {
     "output_type": "stream",
     "name": "stdout",
     "text": [
      "== RESULTS FROM LogisticRegression\nScore in fold 1 is 86.67%.\nScore in fold 2 is 83.33%.\nScore in fold 3 is 90.00%.\nScore in fold 4 is 100.00%.\nAverage is 0.90 and deviation is 0.06\n\n== RESULTS FROM RidgeClassifier\nScore in fold 1 is 73.33%.\nScore in fold 2 is 73.33%.\nScore in fold 3 is 86.67%.\nScore in fold 4 is 86.67%.\nAverage is 0.80 and deviation is 0.07\n\n== RESULTS FROM SVC\nScore in fold 1 is 93.33%.\nScore in fold 2 is 90.00%.\nScore in fold 3 is 93.33%.\nScore in fold 4 is 96.67%.\nAverage is 0.93 and deviation is 0.02\n\n== RESULTS FROM DecisionTreeClassifier\nScore in fold 1 is 86.67%.\nScore in fold 2 is 96.67%.\nScore in fold 3 is 93.33%.\nScore in fold 4 is 96.67%.\nAverage is 0.93 and deviation is 0.04\n\n== RESULTS FROM GaussianNB\nScore in fold 1 is 93.33%.\nScore in fold 2 is 93.33%.\nScore in fold 3 is 93.33%.\nScore in fold 4 is 100.00%.\nAverage is 0.95 and deviation is 0.03\n\n"
     ]
    }
   ],
   "source": [
    "    # from sklearn.linear_model import LogisticRegression\n",
    "    # from sklearn.linear_model import RidgeClassifier\n",
    "    # from sklearn.svm import SVC\n",
    "    # from sklearn.tree  import DecisionTreeClassifier\n",
    "    # from sklearn.naive_bayes import GaussianNB\n",
    "\n",
    "    # import pandas as pd\n",
    "    # import numpy as np\n",
    "\n",
    "def model_explorer(df, model):\n",
    "    # Initialize Linear Regression Model class\n",
    "    clf = model()\n",
    "\n",
    "    # Training on fold 0 and test in folds 1,2,3,4\n",
    "    X_train = df.loc[df['kfold'] == 0].iloc[:, :-3] \n",
    "    Y_train = df.loc[df['kfold'] == 0].loc[:, 'target']\n",
    "    clf_fit = model().fit(X_train, Y_train)\n",
    "\n",
    "    # Print coeficient of determinario R² for other folds of the model\n",
    "    print('== RESULTS FROM {model}'.format(model = model.__name__))\n",
    "    scores = np.array([])\n",
    "    for fold in range(1,5):\n",
    "        X = df.loc[df['kfold'] == fold].iloc[:, :-3] \n",
    "        Y = df.loc[df['kfold'] == fold].loc[:, 'target']\n",
    "        score = clf_fit.score(X,Y)\n",
    "        print('Score in fold {fold} is {score:.2%}.'.format(fold = fold, score = score))\n",
    "        scores = np.append(arr = scores, values = score)\n",
    "    print('Average is {avg:.2f} and deviation is {std:.2f}\\n'.format(avg = np.mean(scores), std = np.std(scores)))\n",
    "\n",
    "\n",
    "df = pd.read_csv('input/raw_data_splitted.csv')\n",
    "\n",
    "model_explorer(df,LogisticRegression)\n",
    "model_explorer(df,RidgeClassifier)\n",
    "model_explorer(df,SVC)\n",
    "model_explorer(df,DecisionTreeClassifier)\n",
    "model_explorer(df,GaussianNB)"
   ]
  },
  {
   "source": [
    "Best models are: GaussianNB, DecisionTreeClassifier and SVC"
   ],
   "cell_type": "markdown",
   "metadata": {}
  },
  {
   "source": [
    "# Exploring Hyper Parameters"
   ],
   "cell_type": "markdown",
   "metadata": {}
  },
  {
   "source": [
    "Post Poned, business need this model in production ASAP."
   ],
   "cell_type": "markdown",
   "metadata": {}
  },
  {
   "source": [
    "# TRAINING AND SAVING"
   ],
   "cell_type": "markdown",
   "metadata": {}
  },
  {
   "cell_type": "code",
   "execution_count": 76,
   "metadata": {},
   "outputs": [],
   "source": [
    "# Training an GaussianNB model and saving locally\n",
    "\n",
    "from sklearn.naive_bayes import GaussianNB\n",
    "\n",
    "import pandas as pd\n",
    "import pickle\n",
    "\n",
    "MODELS_DIRECTORY = 'models/'\n",
    "\n",
    "\n",
    "# depois fazer isso aceitar hiperparametros de treino\n",
    "def model_trainer_no_hp(df_train_data_preprocessed, model):\n",
    "    X_train = df_train_data_preprocessed.iloc[:, :-3] \n",
    "    Y_train = df_train_data_preprocessed.loc[:, 'target']\n",
    "\n",
    "    model_initialized = model()\n",
    "    model_fitted = model_initialized.fit(X_train, Y_train)\n",
    "    return model_fitted\n",
    "\n",
    "\n",
    "# Save the fitted model in the models folder with name specified\n",
    "def model_saver(model_fitted, models_folder, model_name):\n",
    "    pickle.dump(model_fitted, open(models_folder + \"{model_name}.pkl\".format(model_name = model_name), 'wb'))\n",
    "\n",
    "# testing both functions\n",
    "train_data = pd.read_csv('input/raw_data_splitted.csv')\n",
    "train_data = train_data.loc[train_data['kfold'] == 0]\n",
    "\n",
    "model_trained = model_trainer_no_hp(train_data, GaussianNB)\n",
    "\n",
    "model_saver(model_trained, MODELS_DIRECTORY, 'plain_gaussian')"
   ]
  },
  {
   "source": [
    "# MODEL INFERENCE"
   ],
   "cell_type": "markdown",
   "metadata": {}
  },
  {
   "cell_type": "code",
   "execution_count": 173,
   "metadata": {},
   "outputs": [],
   "source": [
    "# Loads Models and uses it based on entrance\n",
    "\n",
    "    # import pickle \n",
    "\n",
    "MODELS_DIRECTORY = 'models/'\n",
    "\n",
    "def model_loader(models_folder, models_name):\n",
    "    return pickle.load(open(models_folder + models_name + '.pkl', 'rb'))\n",
    "    \n",
    "loaded_model = model_loader(MODELS_DIRECTORY, 'plain_gaussian')\n",
    "X = np.array([5.5,2.3,4.0,1.3])\n",
    "classes_name_dict = {0: 'setosa', 1: 'versicolor', 2: 'virginica'}\n",
    "\n",
    "def model_predict(X, classes_name_dict, loaded_model):\n",
    "    X = np.array([X])\n",
    "    target_value = loaded_model.predict(X)[0].tolist()\n",
    "    predicted_class = classes_name_dict[target_value]\n",
    "    return [X[0].tolist(), target_value, predicted_class]\n",
    "\n",
    "output = model_predict(X = X, classes_name_dict = classes_name_dict, loaded_model= loaded_model)"
   ]
  },
  {
   "source": [
    "# Formatting output"
   ],
   "cell_type": "markdown",
   "metadata": {}
  },
  {
   "cell_type": "code",
   "execution_count": 172,
   "metadata": {},
   "outputs": [
    {
     "output_type": "execute_result",
     "data": {
      "text/plain": [
       "{'query': {'sepal length (cm)': 5.5,\n",
       "  'sepal width (cm)': 2.3,\n",
       "  'petal length (cm)': 4.0,\n",
       "  'petal width (cm)': 1.3},\n",
       " 'class_number': [5.5, 2.3, 4.0, 1.3],\n",
       " 'class_name': 'versicolor'}"
      ]
     },
     "metadata": {},
     "execution_count": 172
    }
   ],
   "source": [
    "features_names = ['sepal length (cm)',\n",
    "                  'sepal width (cm)',\n",
    "                  'petal length (cm)',\n",
    "                  'petal width (cm)']\n",
    "\n",
    "output_X_values_list = [float(i) for i in output[0][0]]\n",
    "class_number = output[1]\n",
    "class_name = output[2]\n",
    "\n",
    "output_dict = {'query' : dict(zip(features_names, output_X_values_list)), 'class_number' : output_X_values_list, 'class_name' : class_name}\n",
    "output_dict"
   ]
  }
 ]
}